{
 "cells": [
  {
   "cell_type": "markdown",
   "metadata": {},
   "source": [
    "# <center>The Camera LookAt() Function</center>"
   ]
  },
  {
   "cell_type": "markdown",
   "metadata": {},
   "source": [
    "I am trying to follow the tutorial on the LearnOpenGL website, which has been pretty good so far, but early on I decided (foolishly maybe?) to not use the GLM libraries, and instead go with the Eigen linear algebra libraries.  Eigen seemed a bit more general purpose, very fast, supported SIMD, and it seemed generally to be a good library to know how to use.  But of course that meant that the canned function for creating the view matrix, glm::lookAt(), was not available, and I would need to create one.\n",
    "\n",
    "This was just fine with me, as the discussion of the algorithms was right there in the tutorial.  But somehow it was not working as I expected.  Examining the matrix side-by-side with the GLM version was not producing consistent results, and of course the view did not produce anything I was expecting when used with the shader.\n",
    "\n",
    "Like most people, I did a web search on something like 'Eigen lookat function', and found a couple examples that seemed to work like the GLM version.  That's just fine, but I really wanted to know what was going on with the tutorial.  So I decided to play around with the functions, and the easiest way I know to play around with something like this is in numpy.\n",
    "\n",
    "Here we go..."
   ]
  },
  {
   "cell_type": "code",
   "execution_count": 1,
   "metadata": {
    "collapsed": true
   },
   "outputs": [],
   "source": [
    "import sys, os\n",
    "import numpy as np"
   ]
  },
  {
   "cell_type": "code",
   "execution_count": 4,
   "metadata": {
    "collapsed": false
   },
   "outputs": [
    {
     "name": "stdout",
     "output_type": "stream",
     "text": [
      "position:  [ 3.  0.  3.]\n",
      "target:  [ 0.  0.  0.]\n",
      "up:  [ 0.  1.  0.]\n",
      "\n",
      "[[ 0.70710678  0.         -0.70710678 -0.        ]\n",
      " [-0.          1.          0.         -0.        ]\n",
      " [ 0.70710678  0.          0.70710678 -4.24264069]\n",
      " [ 0.          0.          0.          1.        ]]\n",
      "\n",
      "[[ 0.70710678  0.         -0.70710678 -0.        ]\n",
      " [-0.          1.          0.         -0.        ]\n",
      " [ 0.70710678  0.          0.70710678 -4.24264069]\n",
      " [ 0.          0.          0.          1.        ]]\n"
     ]
    }
   ],
   "source": [
    "def normalized(a, axis=-1, order=2):\n",
    "    '''\n",
    "        Annoying: numpy.linalg.norm() does not do a vector normalization,\n",
    "                  but a Frobenius norm, which is essentially the\n",
    "                  Euclidian length.  This is the best solution I have\n",
    "                  found for normalizing a vector.\n",
    "    '''\n",
    "    len_a = np.atleast_1d(np.linalg.norm(a, order, axis))\n",
    "    len_a[len_a==0] = 1\n",
    "\n",
    "    return a / np.expand_dims(len_a, axis)\n",
    "\n",
    "def lookat_view_v1(position, target, up):\n",
    "    '''\n",
    "        OK, this is basically how our camera class\n",
    "        is currently working.\n",
    "    '''\n",
    "    camera_direction = normalized(position - target)\n",
    "    camera_right = normalized(np.cross(up, camera_direction))\n",
    "    camera_up = np.cross(camera_direction, camera_right)\n",
    "\n",
    "    view = np.identity(4)\n",
    "    view[:3, 0] = camera_right\n",
    "    view[:3, 1] = camera_up\n",
    "    view[:3, 2] = camera_direction\n",
    "\n",
    "    view[3, 0] = -camera_right.dot(position)\n",
    "    view[3, 1] = -camera_up.dot(position)\n",
    "    view[3, 2] = -camera_direction.dot(position)\n",
    "\n",
    "    return view\n",
    "\n",
    "\n",
    "def lookat_view_v2(position, target, up):\n",
    "    '''\n",
    "        Here is basically the same thing, but\n",
    "        with a slightly different strategy.\n",
    "    '''\n",
    "    camera_direction = normalized(position - target)\n",
    "    camera_right = normalized(np.cross(up, camera_direction))\n",
    "    camera_up = np.cross(camera_direction, camera_right)\n",
    "\n",
    "    R = np.identity(3)\n",
    "    R[:, 0] = camera_right\n",
    "    R[:, 1] = camera_up\n",
    "    R[:, 2] = camera_direction\n",
    "\n",
    "    view = np.identity(4)\n",
    "    view[:3, :3] = R\n",
    "    view[3, :3] = -R.T.dot(position)\n",
    "    \n",
    "    return view\n",
    "\n",
    "\n",
    "position = np.array([3.0, 0.0, 3.0])\n",
    "target = np.array([0.0, 0.0, 0.0])\n",
    "up = np.array([0.0, 1.0, 0.0])\n",
    "print \"position: \", position\n",
    "print \"target: \", target\n",
    "print \"up: \", up\n",
    "\n",
    "print\n",
    "print lookat_view_v1(position, target, up).T\n",
    "print\n",
    "print lookat_view_v2(position, target, up).T\n"
   ]
  },
  {
   "cell_type": "markdown",
   "metadata": {},
   "source": [
    "This seems to be giving a view matrix that is consistent with my C++ Camera.  And these are more or less the same results I get when using the glm::lookAt() function.\n",
    "\n",
    "But we got these two methods from some stackoverflow code samples.  I would really like to know if the tutorial\n",
    "on the LearnOpenGL website is going to come up with the same thing.\n",
    "\n",
    "The LearnOpenGL tutorial shows a formula representing a dot product of an affine angle transform and an affine position transform, so this is precisely what we will try to do."
   ]
  },
  {
   "cell_type": "markdown",
   "metadata": {},
   "source": [
    "$$\n",
    "LookAt = \n",
    "\\left[\n",
    "\\begin{matrix}\n",
    "    \\color{red}{R_x} & \\color{red}{R_y} & \\color{red}{R_z} & 0 \\\\\n",
    "    \\color{green}{U_x} & \\color{green}{U_y} & \\color{green}{U_z} & 0 \\\\\n",
    "    \\color{blue}{D_x} & \\color{blue}{D_y} & \\color{blue}{D_z} & 0 \\\\\n",
    "    0 & 0 & 0 & 1 \\\\\n",
    "\\end{matrix}\n",
    "\\right]\n",
    "\\cdot\n",
    "\\left[\n",
    "\\begin{matrix}\n",
    "    1 & 0 & 0 & \\color{purple}{-P_x} \\\\\n",
    "    0 & 1 & 0 & \\color{purple}{-P_y} \\\\\n",
    "    0 & 0 & 1 & \\color{purple}{-P_z} \\\\\n",
    "    0 & 0 & 0 & 1\n",
    "\\end{matrix}\n",
    "\\right]\n",
    "$$"
   ]
  },
  {
   "cell_type": "code",
   "execution_count": 5,
   "metadata": {
    "collapsed": false
   },
   "outputs": [
    {
     "name": "stdout",
     "output_type": "stream",
     "text": [
      "[[ 0.70710678  0.         -0.70710678 -3.        ]\n",
      " [ 0.          1.          0.          0.        ]\n",
      " [ 0.70710678  0.          0.70710678 -3.        ]\n",
      " [ 0.          0.          0.          1.        ]]\n"
     ]
    }
   ],
   "source": [
    "def lookat_view_v3(position, target, up):\n",
    "    '''\n",
    "        Here is basically the same thing, but\n",
    "        going as closely as possible to the tutorial\n",
    "        on learnopengl.com.\n",
    "    '''\n",
    "    camera_direction = normalized(position - target)\n",
    "    camera_right = normalized(np.cross(up, camera_direction))\n",
    "    camera_up = np.cross(camera_direction, camera_right)\n",
    "\n",
    "    view = np.identity(4)\n",
    "    view[:3, 0] = camera_right\n",
    "    view[:3, 1] = camera_up\n",
    "    view[:3, 2] = camera_direction\n",
    "\n",
    "    position_mx = np.identity(4)\n",
    "    position_mx[3, :3] = -position\n",
    "\n",
    "    return view.dot(position_mx)\n",
    "\n",
    "\n",
    "print lookat_view_v3(position, target, up).T\n"
   ]
  },
  {
   "cell_type": "markdown",
   "metadata": {},
   "source": [
    "Well, it doesn't appear to be the same.  The angles are correct, which is expected since we don't really change those formulas.  But the positional coefficients are quite different.  The only thing the tutorial states about the view coefficients is that <i>\"$\\color{red}{R}$ is the right vector, $\\color{green}{U}$ is the up vector, $\\color{blue}{D}$ is the direction vector and $\\color{purple}{P}$ is the camera's position vector\"</i>"
   ]
  },
  {
   "cell_type": "markdown",
   "metadata": {},
   "source": [
    "Some online discussions have given me what I think is some more insight into this.  Basically, the vector $\\color{purple}{P}$ is the camera position, but it has been translated by our rotational matrix.  This was not stated, or obviously stated, on the LearnOpenGL site.\n",
    "\n",
    "So we define the rotated position vector $\\color{purple}{P'}$ as:"
   ]
  },
  {
   "cell_type": "markdown",
   "metadata": {},
   "source": [
    "$$\n",
    "\\color{purple}{P'} = \n",
    "\\left[\n",
    "\\begin{matrix}\n",
    "    \\color{red}{R_x} & \\color{red}{R_y} & \\color{red}{R_z} \\\\\n",
    "    \\color{green}{U_x} & \\color{green}{U_y} & \\color{green}{U_z} \\\\\n",
    "    \\color{blue}{D_x} & \\color{blue}{D_y} & \\color{blue}{D_z}\n",
    "\\end{matrix}\n",
    "\\right]\n",
    "\\cdot\n",
    "\\left[\n",
    "\\begin{matrix}\n",
    "    \\color{purple}{P_x} \\\\\n",
    "    \\color{purple}{P_y} \\\\\n",
    "    \\color{purple}{P_z}\n",
    "\\end{matrix}\n",
    "\\right]\n",
    "$$"
   ]
  },
  {
   "cell_type": "markdown",
   "metadata": {},
   "source": [
    "And then our LookAt transform becomes:"
   ]
  },
  {
   "cell_type": "markdown",
   "metadata": {},
   "source": [
    "$$\n",
    "\\begin{align}\n",
    "    LookAt &= \n",
    "    \\left[\n",
    "    \\begin{matrix}\n",
    "        \\color{red}{R_x} & \\color{red}{R_y} & \\color{red}{R_z} & 0 \\\\\n",
    "        \\color{green}{U_x} & \\color{green}{U_y} & \\color{green}{U_z} & 0 \\\\\n",
    "        \\color{blue}{D_x} & \\color{blue}{D_y} & \\color{blue}{D_z} & 0 \\\\\n",
    "        0 & 0 & 0 & 1 \\\\\n",
    "    \\end{matrix}\n",
    "    \\right]\n",
    "    \\cdot\n",
    "    \\left[\n",
    "    \\begin{matrix}\n",
    "        1 & 0 & 0 & \\color{purple}{-P'_x} \\\\\n",
    "        0 & 1 & 0 & \\color{purple}{-P'_y} \\\\\n",
    "        0 & 0 & 1 & \\color{purple}{-P'_z} \\\\\n",
    "        0 & 0 & 0 & 1\n",
    "    \\end{matrix}\n",
    "    \\right] \\\\\n",
    "    &=\n",
    "    \\left[\n",
    "    \\begin{matrix}\n",
    "        \\color{red}{R_x} & \\color{red}{R_y} & \\color{red}{R_z} & \\color{purple}{-P'_x} \\\\\n",
    "        \\color{green}{U_x} & \\color{green}{U_y} & \\color{green}{U_z} & \\color{purple}{-P'_y} \\\\\n",
    "        \\color{blue}{D_x} & \\color{blue}{D_y} & \\color{blue}{D_z} & \\color{purple}{-P'_z} \\\\\n",
    "        0 & 0 & 0 & 1 \\\\\n",
    "    \\end{matrix}\n",
    "    \\right]    \n",
    "\\end{align}\n",
    "$$"
   ]
  },
  {
   "cell_type": "markdown",
   "metadata": {},
   "source": [
    "This can of course be expressed in various ways, but I believe the description on the LearnOpenGL site is either incorrect, or maybe it is simply vague in describing its treatment of $\\color{purple}{P}$.\n",
    "\n",
    "Of course the tutorial doesn't actually program the function, but uses the one supplied by GLM.  So I'm sure most people who went through it didn't need to deeply consider the veracity of the formulas given."
   ]
  },
  {
   "cell_type": "code",
   "execution_count": null,
   "metadata": {
    "collapsed": true
   },
   "outputs": [],
   "source": []
  }
 ],
 "metadata": {
  "anaconda-cloud": {},
  "kernelspec": {
   "display_name": "Python [default]",
   "language": "python",
   "name": "python2"
  },
  "language_info": {
   "codemirror_mode": {
    "name": "ipython",
    "version": 2
   },
   "file_extension": ".py",
   "mimetype": "text/x-python",
   "name": "python",
   "nbconvert_exporter": "python",
   "pygments_lexer": "ipython2",
   "version": "2.7.13"
  }
 },
 "nbformat": 4,
 "nbformat_minor": 1
}
