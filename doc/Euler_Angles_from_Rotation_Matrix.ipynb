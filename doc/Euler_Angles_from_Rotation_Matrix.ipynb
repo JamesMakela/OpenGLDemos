{
 "cells": [
  {
   "cell_type": "markdown",
   "metadata": {},
   "source": [
    "# <center>Computing Euler Angles from a Rotation Matrix</center>\n",
    "\n",
    "<center>Original paper by: Gregory G. Slabough</center>"
   ]
  },
  {
   "cell_type": "markdown",
   "metadata": {},
   "source": [
    "## Abstract"
   ]
  },
  {
   "cell_type": "markdown",
   "metadata": {},
   "source": [
    "This document discusses a simple technique to find all possible Euler angles from a rotation matrix.  Determination of Euler angles is sometimes a necessary step in computer graphics, vision, robotics, and kinematics.  However, the solution may or may not be obvious."
   ]
  },
  {
   "cell_type": "code",
   "execution_count": 9,
   "metadata": {
    "collapsed": true
   },
   "outputs": [],
   "source": [
    "import sys, os\n",
    "import numpy as np\n",
    "\n",
    "from pprint import PrettyPrinter\n",
    "pp = PrettyPrinter(indent=2, width=120)"
   ]
  },
  {
   "cell_type": "markdown",
   "metadata": {},
   "source": [
    "## Rotation Matrices"
   ]
  },
  {
   "cell_type": "markdown",
   "metadata": {},
   "source": [
    "We start off with the standard definition of the rotations about the three principle axes.\n",
    "\n",
    "A rotation of $\\psi$ radians about the x-axis is defined as:"
   ]
  },
  {
   "cell_type": "markdown",
   "metadata": {},
   "source": [
    "$$\n",
    "R_x(\\psi) =\n",
    "\\left[\n",
    "    \\begin{matrix}\n",
    "    1 & 0 & 0 \\\\\n",
    "    0 & cos \\, \\psi & -sin \\, \\psi \\\\\n",
    "    0 & sin \\, \\psi & cos \\, \\psi \\\\\n",
    "    \\end{matrix}\n",
    "\\right]\n",
    "$$"
   ]
  },
  {
   "cell_type": "markdown",
   "metadata": {},
   "source": [
    "Similarly, a rotation of $\\theta$ radians about the y-axis is defined as:"
   ]
  },
  {
   "cell_type": "markdown",
   "metadata": {},
   "source": [
    "$$\n",
    "R_y(\\theta) =\n",
    "\\left[\n",
    "    \\begin{matrix}\n",
    "    cos \\, \\theta & 0 & sin \\, \\theta \\\\\n",
    "    0 & 1 & 0 \\\\\n",
    "    -sin \\, \\theta & 0 & cos \\, \\theta \\\\\n",
    "    \\end{matrix}\n",
    "\\right]\n",
    "$$"
   ]
  },
  {
   "cell_type": "markdown",
   "metadata": {},
   "source": [
    "Finally, a rotation of $\\phi$ radians about the z-axis is defined as:"
   ]
  },
  {
   "cell_type": "markdown",
   "metadata": {},
   "source": [
    "$$\n",
    "R_y(\\phi) =\n",
    "\\left[\n",
    "    \\begin{matrix}\n",
    "    cos \\, \\phi & -sin \\, \\phi & 0 \\\\\n",
    "    sin \\, \\phi & cos \\, \\phi & 0 \\\\\n",
    "    0 & 1 & 0 \\\\\n",
    "    \\end{matrix}\n",
    "\\right]\n",
    "$$"
   ]
  },
  {
   "cell_type": "markdown",
   "metadata": {},
   "source": [
    "The angles $\\psi$, $\\theta$, and $\\phi$ are the Euler angles.  And for some clarification, we associate the common terms Pitch, Yaw, and Roll such that:\n",
    "\n",
    "$$\n",
    "\\begin{align}\n",
    "    \\psi &= \\text{rotation about the x-axis, or Pitch} \\\\\n",
    "    \\theta &= \\text{rotation about the y-axis, or Yaw} \\\\\n",
    "    \\phi &= \\text{rotation about the z-axis, or Roll} \\\\\n",
    "\\end{align}\n",
    "$$"
   ]
  },
  {
   "cell_type": "markdown",
   "metadata": {},
   "source": [
    "## Generalized Rotation Matrices"
   ]
  },
  {
   "cell_type": "markdown",
   "metadata": {},
   "source": [
    "A general rotation matrix will have the form:"
   ]
  },
  {
   "cell_type": "markdown",
   "metadata": {},
   "source": [
    "$$\n",
    "R =\n",
    "\\left[\n",
    "    \\begin{matrix}\n",
    "    R_{11} & R_{12} & R_{13} \\\\\n",
    "    R_{21} & R_{22} & R_{23} \\\\\n",
    "    R_{31} & R_{32} & R_{33} \\\\\n",
    "    \\end{matrix}\n",
    "\\right]\n",
    "$$"
   ]
  },
  {
   "cell_type": "markdown",
   "metadata": {},
   "source": [
    "This matrix can be thought of as a sequence of three rotations, one about each principle axis.  Since matrix multiplication does not commute, the order of the axes which one rotates about will affect the result.  For this analysis, we will rotate first about the x-axis, then the y-axis, and finally the z-axis.  Such a sequence of rotations can be represented as the matrix product:"
   ]
  },
  {
   "cell_type": "markdown",
   "metadata": {},
   "source": [
    "$$\n",
    "\\begin{align}\n",
    "    R &= R_z(\\phi)R_y(\\theta)R_x(\\psi) \\\\\n",
    "    &=\n",
    "    \\left[\n",
    "        \\begin{matrix}\n",
    "        cos \\,\\theta \\,cos \\,\\phi  &  sin \\,\\psi \\,sin \\,\\theta \\,cos \\,\\phi - cos \\,\\psi \\,sin \\,\\phi  &  cos \\,\\psi \\,sin \\,\\theta \\,cos \\,\\phi + sin \\,\\psi \\,sin \\,\\phi \\\\\n",
    "        cos \\,\\theta \\,sin \\,\\phi  &  sin \\,\\psi \\,sin \\,\\theta \\,sin \\,\\phi + cos \\,\\psi \\,cos \\,\\phi  &  cos \\,\\psi \\,sin \\,\\theta \\,sin \\,\\phi - sin \\,\\psi \\,cos \\,\\phi \\\\\n",
    "        -sin \\,\\theta &  sin \\,\\psi \\,cos \\,\\theta  &  cos \\,\\psi \\,cos \\,\\theta \\\\\n",
    "        \\end{matrix}\n",
    "    \\right] \\\\\n",
    "\\end{align}\n",
    "$$"
   ]
  },
  {
   "cell_type": "markdown",
   "metadata": {},
   "source": [
    "Given a rotation matrix $R$, we can compute the Euler angles $\\psi$, $\\theta$, and $\\phi$ by equating each element in $R$ with the corresponding element in the matrix product $R_z(\\phi)R_y(\\theta)R_x(\\psi)$.  This results in nine equations that can be used to find the Euler angles."
   ]
  },
  {
   "cell_type": "markdown",
   "metadata": {},
   "source": [
    "## Finding Two Possible Angles for $\\theta$"
   ]
  },
  {
   "cell_type": "markdown",
   "metadata": {},
   "source": [
    "Starting with $R_{31}$, we find:\n",
    "$$\n",
    "R_{31} = -sin \\,\\theta\n",
    "$$"
   ]
  },
  {
   "cell_type": "markdown",
   "metadata": {},
   "source": [
    "This equation can be inverted fo yield:\n",
    "$$\n",
    "\\theta = -sin^{-1}(R_{31}) \\qquad \\qquad \\qquad (1)\n",
    "$$"
   ]
  },
  {
   "cell_type": "markdown",
   "metadata": {},
   "source": [
    "However, one must be careful in interpreting this equation.  Since $sin(\\pi - \\theta) = sin(\\theta)$, there are actually <i>two</i> distinct values (for $R_{31} \\ne \\pm 1$) of $\\theta$ that satisfy Equation 1.  Therefore, both the values:"
   ]
  },
  {
   "cell_type": "markdown",
   "metadata": {},
   "source": [
    "$$\n",
    "\\begin{align}\n",
    "    \\theta_1 &= -sin^{-1}(R_{31}) \\\\\n",
    "    \\theta_2 &= \\pi - \\theta_1 = \\pi + sin^{-1}(R_{31})\n",
    "\\end{align}\n",
    "$$"
   ]
  },
  {
   "cell_type": "markdown",
   "metadata": {},
   "source": [
    "are valid solutions.  We will handle the special case of $R_{31} = \\pm 1$ later.  So using the $R_{31}$ element of the rotation matrix, we are able to determine two possible values for $\\theta$."
   ]
  },
  {
   "cell_type": "markdown",
   "metadata": {},
   "source": [
    "## Finding the Corresponding Angles of $\\psi$"
   ]
  },
  {
   "cell_type": "markdown",
   "metadata": {},
   "source": [
    "To find the values for $\\psi$, we observe that:\n",
    "$$\n",
    "    {R_{32} \\over R_{33}} = tan(\\psi)\n",
    "$$"
   ]
  },
  {
   "cell_type": "markdown",
   "metadata": {},
   "source": [
    "We use this equation to solve for $\\psi$ as:\n",
    "$$\n",
    "    \\psi = atan2(R_{32}, R_{33}) \\qquad \\qquad \\qquad (2)\n",
    "$$"
   ]
  },
  {
   "cell_type": "markdown",
   "metadata": {},
   "source": [
    "where $atan2(y, x)$ is the arc tangent of the two variables $x$ and $y$.  It is similar to calculating the arc tangent of $y/x$, except that the signs of both arguments are used to determine the quadrant of the result, which lies in the range $[-\\pi, \\pi]$.  The function atan2 is available in many programming languages."
   ]
  },
  {
   "cell_type": "markdown",
   "metadata": {},
   "source": [
    "One must be careful in interpreting Equation 2.  If $cos(\\theta) > 0$, then $\\psi = atan2(R_{32}, R_{33})$.  However, when $cos(\\theta) < 0$, then $\\psi = atan2(-R_{32}, -R_{33})$.  A simple way to handle this is to use the equation:\n",
    "$$\n",
    "    \\psi = atan2 \\left({R_{32} \\over cos \\theta}, {R_{33} \\over cos \\theta} \\right) \\qquad \\qquad \\qquad (3)\n",
    "$$"
   ]
  },
  {
   "cell_type": "markdown",
   "metadata": {},
   "source": [
    "Equation 3 is valid for all cases except when $cos(\\theta) = 0$.  We will deal with this special case later.  For each value of $\\theta$, we compute a corresponding value of $\\psi$ using Equation 3, yielding:\n",
    "$$\n",
    "\\begin{align}\n",
    "    \\psi_1 &= atan2 \\left({R_{32} \\over cos \\theta_1}, {R_{33} \\over cos \\theta_1} \\right) \\qquad \\qquad \\qquad (4) \\\\\n",
    "    \\psi_2 &= atan2 \\left({R_{32} \\over cos \\theta_2}, {R_{33} \\over cos \\theta_2} \\right) \\qquad \\qquad \\qquad (5)\n",
    "\\end{align}\n",
    "$$"
   ]
  },
  {
   "cell_type": "markdown",
   "metadata": {},
   "source": [
    "## Finding the Corresponding Angles of $\\phi$"
   ]
  },
  {
   "cell_type": "markdown",
   "metadata": {},
   "source": [
    "A similar analysis holds for finding $\\phi$.  We observe that:\n",
    "$$\n",
    "{R_{22} \\over R_{11}} = tan \\phi\n",
    "$$"
   ]
  },
  {
   "cell_type": "markdown",
   "metadata": {},
   "source": [
    "We solve for $\\phi$ using the equation:\n",
    "$$\n",
    "\\phi = atan2 \\left({R_{21} \\over cos \\phi}, {R_{11} \\over cos \\phi} \\right) \\qquad \\qquad \\qquad (6)\n",
    "$$"
   ]
  },
  {
   "cell_type": "markdown",
   "metadata": {},
   "source": [
    "Again, this equation is valid for all cases <i>except</i> when $cos \\phi = 0$.  And again, we will deal with this special case later.  For each value of $\\theta$, we compute a corresponding value of $\\phi$ using Equation 6 as:\n",
    "$$\n",
    "\\begin{align}\n",
    "    \\phi_1 &= atan2 \\left({R_{21} \\over cos \\theta_1}, {R_{11} \\over cos \\theta_1} \\right) \\qquad \\qquad \\qquad (7) \\\\\n",
    "    \\phi_2 &= atan2 \\left({R_{21} \\over cos \\theta_2}, {R_{11} \\over cos \\theta_2} \\right) \\qquad \\qquad \\qquad (8)\n",
    "\\end{align}\n",
    "$$"
   ]
  },
  {
   "cell_type": "markdown",
   "metadata": {},
   "source": [
    "## Two Solutions if $cos \\theta \\ne 0$"
   ]
  },
  {
   "cell_type": "markdown",
   "metadata": {},
   "source": [
    "For the case of $cos \\theta \\ne 0$, we now have two triplets of Euler angles that reproduce the rotation matrix, namely:\n",
    "\n",
    "$$\n",
    "(\\psi_1, \\theta_1, \\phi_1) \\\\\n",
    "(\\psi_2, \\theta_2, \\phi_2) \\\\\n",
    "$$"
   ]
  },
  {
   "cell_type": "markdown",
   "metadata": {},
   "source": [
    "<i>Both</i> of these solutions will be valid."
   ]
  },
  {
   "cell_type": "markdown",
   "metadata": {},
   "source": [
    "## What if $cos \\theta = 0$?"
   ]
  },
  {
   "cell_type": "markdown",
   "metadata": {},
   "source": [
    "This technique described above does not work if the $R_{31}$ element of the rotation matrix is 1 or -1, which corresponds to $\\theta = -\\pi/2$ or $\\theta = \\pi/2$, respectively, and to $cos \\theta = 0$.  When we try to solve for the possible values of $\\psi$ and $\\phi$ using the above tecnique, problems will occur, since the elements $R_{11}$, $R_{21}$, $R_{32}$, and $R_{33}$ will all be zero, and therefore Equations 3 and 6 will become:\n",
    "$$\n",
    "\\begin{align}\n",
    "    \\psi &= atan2 \\left( {0 \\over 0}, {0 \\over 0} \\right) \\\\\n",
    "    \\phi &= atan2 \\left( {0 \\over 0}, {0 \\over 0} \\right)\n",
    "\\end{align}\n",
    "$$"
   ]
  },
  {
   "cell_type": "markdown",
   "metadata": {},
   "source": [
    "In this case $R_{11}$, $R_{21}$, $R_{32}$, and $R_{33}$ do not constrain the values of $\\psi$ and $\\phi$.  Therefore, we must use different elements of the rotation matrix to compute the values of $\\psi$ and $\\phi$."
   ]
  },
  {
   "cell_type": "markdown",
   "metadata": {},
   "source": [
    "### <center>Case: $\\theta = \\pi / 2$</center>"
   ]
  },
  {
   "cell_type": "markdown",
   "metadata": {},
   "source": [
    "Consider the case when $\\theta = \\pi / 2$.  Then:\n",
    "\n",
    "$$\n",
    "\\begin{align}\n",
    "    R_{12} &= sin \\,\\psi \\, cos \\,\\phi - cos \\,\\psi \\,sin \\,\\phi = sin(\\psi - \\phi) \\\\\n",
    "    R_{13} &= cos \\,\\psi \\, cos \\,\\phi + sin \\,\\psi \\,sin \\,\\phi = cos(\\psi - \\phi) \\\\\n",
    "    R_{22} &= sin \\,\\psi \\, sin \\,\\phi + cos \\,\\psi \\,cos \\,\\phi = cos(\\psi - \\phi) = R_{13} \\\\\n",
    "    R_{23} &= cos \\,\\psi \\, sin \\,\\phi - sin \\,\\psi \\,cos \\,\\phi = -sin(\\psi - \\phi) = -R_{12} \\\\\n",
    "\\end{align}\n",
    "$$"
   ]
  },
  {
   "cell_type": "markdown",
   "metadata": {},
   "source": [
    "Any $\\psi$ and $\\phi$ that satisfy these equations will be a valid solution.  Using the equations for $R_{12}$ and $R_{13}$, we find that:\n",
    "\n",
    "$$\n",
    "\\begin{align}\n",
    "    (\\psi - \\phi) &= atan2(R_{12}, R_{13}) \\\\\n",
    "    \\psi &= \\phi + atan2(R_{12}, R_{13}) \\\\\n",
    "\\end{align}\n",
    "$$"
   ]
  },
  {
   "cell_type": "markdown",
   "metadata": {},
   "source": [
    "### <center>Case: $\\theta = -\\pi / 2$</center>"
   ]
  },
  {
   "cell_type": "markdown",
   "metadata": {},
   "source": [
    "Not surprisingly, a similar result holds for the case when $\\theta = -\\pi / 2$, for which:\n",
    "\n",
    "$$\n",
    "\\begin{align}\n",
    "    R_{12} &= -sin \\,\\psi \\, cos \\,\\phi - cos \\,\\psi \\,sin \\,\\phi = -sin(\\psi - \\phi) \\\\\n",
    "    R_{13} &= -cos \\,\\psi \\, cos \\,\\phi + sin \\,\\psi \\,sin \\,\\phi = -cos(\\psi - \\phi) \\\\\n",
    "    R_{22} &= -sin \\,\\psi \\, sin \\,\\phi + cos \\,\\psi \\,cos \\,\\phi = cos(\\psi - \\phi) = -R_{13} \\\\\n",
    "    R_{23} &= -cos \\,\\psi \\, sin \\,\\phi - sin \\,\\psi \\,cos \\,\\phi = -sin(\\psi - \\phi) = R_{12} \\\\\n",
    "\\end{align}\n",
    "$$"
   ]
  },
  {
   "cell_type": "markdown",
   "metadata": {},
   "source": [
    "Again, using the equations for $R_{12}$ and $R_{13}$, we find that:\n",
    "\n",
    "$$\n",
    "\\begin{align}\n",
    "    (\\psi + \\phi) &= atan2(-R_{12}, -R_{13}) \\\\\n",
    "    \\psi &= -\\phi + atan2(-R_{12}, -R_{13}) \\\\\n",
    "\\end{align}\n",
    "$$"
   ]
  },
  {
   "cell_type": "markdown",
   "metadata": {},
   "source": [
    "### <center>In Either Case:</center>"
   ]
  },
  {
   "cell_type": "markdown",
   "metadata": {},
   "source": [
    "In both the $\\theta = \\pi / 2$ and $\\theta = -\\pi / 2$ cases, we have found that $\\psi$ and $\\phi$ are linked.  This phenomenon is called <i>Gimbal Lock</i>.  Although in this case, there are an infinite number of solutions to the problem, in practice, one is often interested in finding one solution.  For this task, it is convenient to set $\\phi = 0$ and compute $\\psi$ as described above."
   ]
  },
  {
   "cell_type": "markdown",
   "metadata": {},
   "source": [
    "## A Pseudo-code Example"
   ]
  },
  {
   "cell_type": "markdown",
   "metadata": {},
   "source": [
    "We now summarize the method by providing a Python language implementation.  Python syntax is very readable, and is appropriate for many if not most pseudo-code descriptions."
   ]
  },
  {
   "cell_type": "code",
   "execution_count": 24,
   "metadata": {
    "collapsed": true
   },
   "outputs": [],
   "source": [
    "def euler_angles_from_rotation_mx(rot):\n",
    "    '''\n",
    "        rot = 3x3 rotation matrix\n",
    "              index values start at 0, not 1\n",
    "    '''\n",
    "    theta_1 = theta_2 = None\n",
    "    psi_1 = psi_2 = None\n",
    "    phi_1 = phi_2 = None\n",
    "\n",
    "    if rot[2, 0] in (1.0, -1.0):\n",
    "        phi_1 = 0.0  # can be anything\n",
    "\n",
    "        if rot[2, 0] == -1.0:\n",
    "            theta_1 = np.pi / 2.0\n",
    "            psi_1 = phi_1 + np.arctan2(rot[0, 1], rot[0, 2])\n",
    "        else:\n",
    "            theta_1 = -np.pi / 2.0\n",
    "            psi_1 = -phi_1 + np.arctan2(-rot[0, 1], -rot[0, 2])\n",
    "    else:\n",
    "        theta_1 = -np.arcsin(rot[2, 0])\n",
    "        theta_2 = np.pi - theta_1\n",
    "\n",
    "        psi_1 = np.arctan2(rot[2, 1] / np.cos(theta_1),\n",
    "                           rot[2, 2] / np.cos(theta_1))\n",
    "        psi_2 = np.arctan2(rot[2, 1] / np.cos(theta_2),\n",
    "                           rot[2, 2] / np.cos(theta_2))\n",
    "\n",
    "        phi_1 = np.arctan2(rot[1, 0] / np.cos(theta_1),\n",
    "                           rot[0, 0] / np.cos(theta_1))\n",
    "        phi_2 = np.arctan2(rot[1, 0] / np.cos(theta_2),\n",
    "                           rot[0, 0] / np.cos(theta_2))\n",
    "\n",
    "    return [psi_1, theta_1, phi_1], [psi_2, theta_2, phi_2]\n",
    "\n"
   ]
  },
  {
   "cell_type": "markdown",
   "metadata": {},
   "source": [
    "## A Computational Example Using Real Data"
   ]
  },
  {
   "cell_type": "markdown",
   "metadata": {},
   "source": [
    "Suppose we are asked to find the Euler angles that produce the matrix:\n",
    "\n",
    "$$\n",
    "R =\n",
    "\\left[\n",
    "    \\begin{matrix}\n",
    "    .5      &  -.1464  &  .8536 \\\\\n",
    "    .5      &  .8536   &  -.1464 \\\\\n",
    "    -.7071  &  .5      &  .5 \\\\\n",
    "    \\end{matrix}\n",
    "\\right]\n",
    "$$"
   ]
  },
  {
   "cell_type": "markdown",
   "metadata": {},
   "source": [
    "First, we find the possible values for $\\theta$ to be:\n",
    "\n",
    "$$\n",
    "\\begin{align}\n",
    "    \\theta_1 = -sin(-.7071) = {\\pi \\over 4} \\\\\n",
    "    \\theta_2 = \\pi - \\theta_1 = {3\\pi \\over 4} \\\\\n",
    "\\end{align}\n",
    "$$"
   ]
  },
  {
   "cell_type": "markdown",
   "metadata": {},
   "source": [
    "Then, we find the corresponding values of $\\psi$ to be:\n",
    "\n",
    "$$\n",
    "\\begin{align}\n",
    "    \\psi_1 &= atan2 \\left( {.5 \\over cos(\\pi / 4)}, {.5 \\over cos(\\pi / 4)} \\right) = {\\pi \\over 4} \\\\\n",
    "    \\psi_2 &= atan2 \\left( {.5 \\over cos(3 \\pi / 4)}, {.5 \\over cos(3 \\pi / 4)} \\right) = -{3 \\pi \\over 4}\n",
    "\\end{align}\n",
    "$$"
   ]
  },
  {
   "cell_type": "markdown",
   "metadata": {},
   "source": [
    "And we find $\\phi$ to be:\n",
    "\n",
    "$$\n",
    "\\begin{align}\n",
    "    \\phi_1 &= atan2 \\left( {.5 \\over cos(\\pi / 4)}, {.5 \\over cos(\\pi / 4)} \\right) = {\\pi \\over 4} \\\\\n",
    "    \\phi_2 &= atan2 \\left( {.5 \\over cos(3 \\pi / 4)}, {.5 \\over cos(3 \\pi / 4)} \\right) = -{3 \\pi \\over 4}\n",
    "\\end{align}\n",
    "$$"
   ]
  },
  {
   "cell_type": "markdown",
   "metadata": {},
   "source": [
    "Therefore, the solutions are:\n",
    "\n",
    "$$\n",
    "\\begin{align}\n",
    "    &\\left({\\pi \\over 4}, {\\pi \\over 4}, {\\pi \\over 4} \\right) \\\\\n",
    "    &\\left(-{3 \\pi \\over 4}, {3 \\pi \\over 4}, -{3 \\pi \\over 4} \\right)\n",
    "\\end{align}\n",
    "$$"
   ]
  },
  {
   "cell_type": "markdown",
   "metadata": {},
   "source": [
    "Let's see if this actually pans out in our code example:"
   ]
  },
  {
   "cell_type": "code",
   "execution_count": 25,
   "metadata": {
    "collapsed": false
   },
   "outputs": [
    {
     "name": "stdout",
     "output_type": "stream",
     "text": [
      "pi/4.0:  0.785398163397\n",
      "3*pi/4.0:  2.35619449019\n",
      "\n",
      "our angles (psi, theta, phi):\n",
      "( [0.78539816339744828, 0.78538857339744761, 0.78539816339744828],\n",
      "  [-2.3561944901923448, 2.3562040801923456, -2.3561944901923448])\n"
     ]
    }
   ],
   "source": [
    "R = np.array([[0.5,    -0.1464, 0.8536],\n",
    "              [0.5,     0.8536, -0.1464],\n",
    "              [-0.7071, 0.5,    0.5]])\n",
    "\n",
    "\n",
    "print 'pi/4.0: ', np.pi / 4.0\n",
    "print '3*pi/4.0: ', 3.0 * np.pi / 4.0\n",
    "\n",
    "print\n",
    "print 'our angles (psi, theta, phi):'\n",
    "pp.pprint(euler_angles_from_rotation_mx(R))\n"
   ]
  },
  {
   "cell_type": "markdown",
   "metadata": {},
   "source": [
    "Yes, it does appear that our code example produces the results that we expected.\n",
    "Our function returns two vectors of the form $(\\psi, \\theta, \\phi)$ which are equivalent to the more modern terms $(Pitch, Yaw, Roll)$."
   ]
  },
  {
   "cell_type": "markdown",
   "metadata": {},
   "source": [
    "## More Than One Solution??"
   ]
  },
  {
   "cell_type": "markdown",
   "metadata": {},
   "source": [
    "It is interesting to note that there is <i>always</i> more than one sequence of rotations about the three principle axes that results in the same orientation of an object.  As we have shown, in the non-degenerate case of $cos \\theta \\ne 0$, there are two solutions.  For the degenerate case of $cos \\theta = 0$, an infinite number of solutions exist.\n",
    "\n",
    "As an example, consider a book laying on a table face up in front of you.  Define the x-axis as to the right, the y-axis as away from you, and the z-axis up.  A rotation of $\\pi$ radians about the y-axis will turn the book so that the back cover is now facing up.  Another way to achieve the same orientation would be to rotate the book $\\pi$ radians about the x-axis, and then $\\pi$ radians about the z-axis.  Thus, there is more than one way to achieve a desired rotation."
   ]
  },
  {
   "cell_type": "markdown",
   "metadata": {},
   "source": [
    "## Notes"
   ]
  },
  {
   "cell_type": "code",
   "execution_count": 26,
   "metadata": {
    "collapsed": false
   },
   "outputs": [
    {
     "name": "stdout",
     "output_type": "stream",
     "text": [
      "pi/4.0:  0.785398163397\n",
      "3*pi/4.0:  2.35619449019\n",
      "\n",
      "our angles (psi, theta, phi):\n",
      "([0.0, -0.78539847284644837, -0.0], [-3.1415926535897931, 3.9269911264362416, 3.1415926535897931])\n"
     ]
    }
   ],
   "source": [
    "R = np.array([[0.707107,    0.0, -0.707107],\n",
    "              [-0.0,     1.0, 0.0],\n",
    "              [0.707107, 0.0,    0.707107]])\n",
    "\n",
    "\n",
    "print 'pi/4.0: ', np.pi / 4.0\n",
    "print '3*pi/4.0: ', 3.0 * np.pi / 4.0\n",
    "\n",
    "print\n",
    "print 'our angles (psi, theta, phi):'\n",
    "pp.pprint(euler_angles_from_rotation_mx(R))\n"
   ]
  },
  {
   "cell_type": "code",
   "execution_count": null,
   "metadata": {
    "collapsed": true
   },
   "outputs": [],
   "source": []
  }
 ],
 "metadata": {
  "anaconda-cloud": {},
  "kernelspec": {
   "display_name": "Python [default]",
   "language": "python",
   "name": "python2"
  },
  "language_info": {
   "codemirror_mode": {
    "name": "ipython",
    "version": 2
   },
   "file_extension": ".py",
   "mimetype": "text/x-python",
   "name": "python",
   "nbconvert_exporter": "python",
   "pygments_lexer": "ipython2",
   "version": "2.7.13"
  }
 },
 "nbformat": 4,
 "nbformat_minor": 1
}
